{
 "cells": [
  {
   "cell_type": "code",
   "execution_count": 39,
   "metadata": {},
   "outputs": [],
   "source": [
    "import os\n",
    "\n",
    "import pandas as pd\n",
    "import numpy as np\n",
    "import matplotlib.pyplot as plt\n",
    "from sklearn.model_selection import train_test_split\n",
    "import lightgbm as lgb\n",
    "#import xgboost as xgb\n",
    "import pickle"
   ]
  },
  {
   "cell_type": "code",
   "execution_count": 40,
   "metadata": {},
   "outputs": [],
   "source": [
    "notebook_name = os.path.basename(os.getcwd())\n",
    "timestamp=\"07\""
   ]
  },
  {
   "cell_type": "code",
   "execution_count": 41,
   "metadata": {},
   "outputs": [],
   "source": [
    "version=\"_ver2.1\""
   ]
  },
  {
   "cell_type": "code",
   "execution_count": 42,
   "metadata": {},
   "outputs": [],
   "source": [
    "path_movie_dir = '../data/movie/fps30_mask/'\n",
    "path_save_dir = os.path.join('../data/04_Split'+version+'/', timestamp)\n",
    "if not os.path.exists(path_save_dir):\n",
    "    os.makedirs(path_save_dir)"
   ]
  },
  {
   "cell_type": "code",
   "execution_count": 43,
   "metadata": {},
   "outputs": [],
   "source": [
    "path_action_dir = os.path.join('../data/01_DataProcessing/', timestamp)\n",
    "path_point_dir = os.path.join('../data/02_GetPoints'+version+'/', timestamp)"
   ]
  },
  {
   "cell_type": "code",
   "execution_count": 44,
   "metadata": {},
   "outputs": [],
   "source": [
    "file_names = ['fall','sitdown', 'standup']\n",
    "# file_names = ['forehand']\n",
    "movie_names = [file_name + '.MOV' for file_name in file_names]\n",
    "points_file_names = [file_name+version + '.csv' for file_name in file_names]"
   ]
  },
  {
   "cell_type": "code",
   "execution_count": 45,
   "metadata": {},
   "outputs": [],
   "source": [
    "def save_file(data, path_save_dir, data_dype, file_name):\n",
    "    path_dir = os.path.join(path_save_dir, data_dype)\n",
    "    path_file = os.path.join(path_dir, file_name)\n",
    "    if not os.path.exists(path_dir):\n",
    "        os.makedirs(path_dir)\n",
    "    print(path_file)\n",
    "    data.to_csv(path_file)"
   ]
  },
  {
   "cell_type": "code",
   "execution_count": 46,
   "metadata": {},
   "outputs": [
    {
     "name": "stdout",
     "output_type": "stream",
     "text": [
      "fall_ver2.1.csv\n",
      "../data/04_Split_ver2.1/07\\train\\fall_ver2.1.csv\n",
      "../data/04_Split_ver2.1/07\\test\\fall_ver2.1.csv\n",
      "sitdown_ver2.1.csv\n",
      "../data/04_Split_ver2.1/07\\train\\sitdown_ver2.1.csv\n",
      "../data/04_Split_ver2.1/07\\test\\sitdown_ver2.1.csv\n",
      "standup_ver2.1.csv\n",
      "../data/04_Split_ver2.1/07\\train\\standup_ver2.1.csv\n",
      "../data/04_Split_ver2.1/07\\test\\standup_ver2.1.csv\n"
     ]
    }
   ],
   "source": [
    "\n",
    "test_size = 0.3\n",
    "for points_file_name in points_file_names:\n",
    "    print(points_file_name)\n",
    "    path_action = os.path.join(path_action_dir, points_file_name)\n",
    "    path_point = os.path.join(path_point_dir, points_file_name)\n",
    "    action_df = pd.read_csv(path_action)\n",
    "    data_df = pd.read_csv(path_point)\n",
    "    data_df.index.name = 'frame_num'\n",
    "\n",
    "    objective = 'action_gt_num'\n",
    "    data_df[objective] = action_df[objective]\n",
    "    data_df.index.name = 'frame_num'\n",
    "\n",
    "    # split\n",
    "\n",
    "    train_data_df, test_data_df =train_test_split(data_df, shuffle=False, test_size=test_size)\n",
    "\n",
    "    save_file(train_data_df, path_save_dir, data_dype='train', file_name=points_file_name)\n",
    "    save_file(test_data_df, path_save_dir, data_dype='test', file_name=points_file_name)"
   ]
  },
  {
   "cell_type": "code",
   "execution_count": 47,
   "metadata": {},
   "outputs": [
    {
     "data": {
      "text/plain": [
       "'../data/04_Split_ver2.1/07'"
      ]
     },
     "execution_count": 47,
     "metadata": {},
     "output_type": "execute_result"
    }
   ],
   "source": [
    "path_save_dir"
   ]
  },
  {
   "cell_type": "code",
   "execution_count": 48,
   "metadata": {},
   "outputs": [
    {
     "data": {
      "text/plain": [
       "['fall_ver2.1.csv', 'sitdown_ver2.1.csv', 'standup_ver2.1.csv']"
      ]
     },
     "execution_count": 48,
     "metadata": {},
     "output_type": "execute_result"
    }
   ],
   "source": [
    "points_file_names"
   ]
  },
  {
   "cell_type": "code",
   "execution_count": 51,
   "metadata": {},
   "outputs": [
    {
     "name": "stdout",
     "output_type": "stream",
     "text": [
      "fall_ver2.1.csv\n",
      "8\n",
      "sitdown_ver2.1.csv\n",
      "7\n",
      "standup_ver2.1.csv\n",
      "6\n"
     ]
    }
   ],
   "source": [
    "data_type = 'train'\n",
    "\n",
    "for points_file_name in points_file_names:\n",
    "    print(points_file_name)\n",
    "    path_saved_file = os.path.join(path_save_dir, data_type, points_file_name)\n",
    "    \n",
    "    action_df = pd.read_csv(path_saved_file)\n",
    "    actions = action_df[objective]\n",
    "\n",
    "    action_ranges = np.empty((0 ,3))\n",
    "    action_range = np.zeros(3)\n",
    "\n",
    "    last_action = 0\n",
    "    idle = 0\n",
    "\n",
    "    for num, action in enumerate(actions):\n",
    "        if (action != last_action) and (action != 0):\n",
    "            action_range[0] = num\n",
    "            action_range[2] = action\n",
    "        elif (action != last_action) and (action == 0):\n",
    "            action_range[1] = num\n",
    "            action_ranges = np.vstack([action_ranges, action_range])\n",
    "            action_range = np.zeros(3)\n",
    "        last_action = action\n",
    "    action_ranges = action_ranges.astype(int)\n",
    "\n",
    "    print(len(action_ranges))"
   ]
  },
  {
   "cell_type": "code",
   "execution_count": 52,
   "metadata": {},
   "outputs": [
    {
     "name": "stdout",
     "output_type": "stream",
     "text": [
      "fall_ver2.1.csv\n",
      "4\n",
      "sitdown_ver2.1.csv\n",
      "1\n",
      "standup_ver2.1.csv\n",
      "2\n"
     ]
    }
   ],
   "source": [
    "data_type = 'test'\n",
    "\n",
    "for points_file_name in points_file_names:\n",
    "    print(points_file_name)\n",
    "    path_saved_file = os.path.join(path_save_dir, data_type, points_file_name)\n",
    "    \n",
    "    action_df = pd.read_csv(path_saved_file)\n",
    "    actions = action_df[objective]\n",
    "\n",
    "    action_ranges = np.empty((0 ,3))\n",
    "    action_range = np.zeros(3)\n",
    "\n",
    "    last_action = 0\n",
    "    idle = 0\n",
    "\n",
    "    for num, action in enumerate(actions):\n",
    "        if (action != last_action) and (action != 0):\n",
    "            action_range[0] = num\n",
    "            action_range[2] = action\n",
    "        elif (action != last_action) and (action == 0):\n",
    "            action_range[1] = num\n",
    "            action_ranges = np.vstack([action_ranges, action_range])\n",
    "            action_range = np.zeros(3)\n",
    "        last_action = action\n",
    "    action_ranges = action_ranges.astype(int)\n",
    "\n",
    "    print(len(action_ranges))"
   ]
  },
  {
   "cell_type": "code",
   "execution_count": null,
   "metadata": {},
   "outputs": [],
   "source": []
  }
 ],
 "metadata": {
  "kernelspec": {
   "display_name": "Python 3",
   "language": "python",
   "name": "python3"
  },
  "language_info": {
   "codemirror_mode": {
    "name": "ipython",
    "version": 3
   },
   "file_extension": ".py",
   "mimetype": "text/x-python",
   "name": "python",
   "nbconvert_exporter": "python",
   "pygments_lexer": "ipython3",
   "version": "3.6.5"
  }
 },
 "nbformat": 4,
 "nbformat_minor": 4
}
