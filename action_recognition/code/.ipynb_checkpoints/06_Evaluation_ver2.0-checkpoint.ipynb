{
 "cells": [
  {
   "cell_type": "code",
   "execution_count": 1,
   "metadata": {},
   "outputs": [],
   "source": [
    "import os\n",
    "import pandas as pd\n",
    "import numpy as np\n",
    "import matplotlib.pyplot as plt\n",
    "from sklearn.model_selection import train_test_split\n",
    "import lightgbm as lgb\n",
    "import pickle\n",
    "import sys\n",
    "sys.path.append('..')"
   ]
  },
  {
   "cell_type": "code",
   "execution_count": 2,
   "metadata": {},
   "outputs": [],
   "source": [
    "notebook_name = os.path.basename(os.getcwd())\n",
    "timestamp=\"07\""
   ]
  },
  {
   "cell_type": "code",
   "execution_count": 3,
   "metadata": {},
   "outputs": [],
   "source": [
    "version=\"_ver2.1\""
   ]
  },
  {
   "cell_type": "code",
   "execution_count": 4,
   "metadata": {},
   "outputs": [],
   "source": [
    "path_movie_dir = '../data/movie/'\n",
    "path_save_dir = os.path.join('../data/06_Evaluation'+version+'/', timestamp)\n",
    "if not os.path.exists(path_save_dir):\n",
    "    os.makedirs(path_save_dir)\n",
    "#path_save_file = os.path.join(path_save_dir, 'test_data.csv')\n",
    "path_save_file = os.path.join(path_save_dir, 'test.csv')"
   ]
  },
  {
   "cell_type": "code",
   "execution_count": 12,
   "metadata": {},
   "outputs": [],
   "source": [
    "path_label_name_file = '../data/labels/labels_num'+version+'.csv'\n",
    "path_action_dir = os.path.join('../data/01_DataProcessing/', timestamp)\n",
    "path_point_dir = os.path.join('../data/02_GetPoints'+version+'/', timestamp)\n",
    "path_split_dir = os.path.join('../data/04_Split'+version+'/', timestamp)\n",
    "path_test_file_dir = os.path.join(path_split_dir, 'test')\n",
    "path_test_file = os.path.join(path_test_file_dir, 'test.csv')\n",
    "path_model_dir = os.path.join('../data/05_train'+version+'/', timestamp)\n",
    "path_model_file = os.path.join(path_model_dir, 'model.pkl')"
   ]
  },
  {
   "cell_type": "code",
   "execution_count": 13,
   "metadata": {},
   "outputs": [],
   "source": [
    "file_names = ['fall','sitdown', 'standup']\n",
    "# file_names = ['forehand']\n",
    "movie_names = [file_name + '.MOV' for file_name in file_names]\n",
    "points_file_names = [file_name +version+ '.csv' for file_name in file_names]"
   ]
  },
  {
   "cell_type": "code",
   "execution_count": 14,
   "metadata": {},
   "outputs": [],
   "source": [
    "path_split_dir = os.path.join('../data/04_Split'+version+'/', timestamp)\n",
    "path_test_file_dir = os.path.join(path_split_dir, 'test')"
   ]
  },
  {
   "cell_type": "code",
   "execution_count": 15,
   "metadata": {},
   "outputs": [],
   "source": [
    "objective = 'action_gt_num'"
   ]
  },
  {
   "cell_type": "code",
   "execution_count": 16,
   "metadata": {},
   "outputs": [],
   "source": [
    "label_names = pd.read_csv(path_label_name_file)"
   ]
  },
  {
   "cell_type": "code",
   "execution_count": 17,
   "metadata": {},
   "outputs": [
    {
     "data": {
      "text/html": [
       "<div>\n",
       "<style scoped>\n",
       "    .dataframe tbody tr th:only-of-type {\n",
       "        vertical-align: middle;\n",
       "    }\n",
       "\n",
       "    .dataframe tbody tr th {\n",
       "        vertical-align: top;\n",
       "    }\n",
       "\n",
       "    .dataframe thead th {\n",
       "        text-align: right;\n",
       "    }\n",
       "</style>\n",
       "<table border=\"1\" class=\"dataframe\">\n",
       "  <thead>\n",
       "    <tr style=\"text-align: right;\">\n",
       "      <th></th>\n",
       "      <th>action_gt_name</th>\n",
       "      <th>action_gt_num</th>\n",
       "    </tr>\n",
       "  </thead>\n",
       "  <tbody>\n",
       "    <tr>\n",
       "      <th>0</th>\n",
       "      <td>idle</td>\n",
       "      <td>0</td>\n",
       "    </tr>\n",
       "    <tr>\n",
       "      <th>1</th>\n",
       "      <td>stand</td>\n",
       "      <td>1</td>\n",
       "    </tr>\n",
       "    <tr>\n",
       "      <th>2</th>\n",
       "      <td>fall</td>\n",
       "      <td>2</td>\n",
       "    </tr>\n",
       "    <tr>\n",
       "      <th>3</th>\n",
       "      <td>sitdown</td>\n",
       "      <td>3</td>\n",
       "    </tr>\n",
       "  </tbody>\n",
       "</table>\n",
       "</div>"
      ],
      "text/plain": [
       "  action_gt_name  action_gt_num\n",
       "0           idle              0\n",
       "1          stand              1\n",
       "2           fall              2\n",
       "3        sitdown              3"
      ]
     },
     "execution_count": 17,
     "metadata": {},
     "output_type": "execute_result"
    }
   ],
   "source": [
    "label_names"
   ]
  },
  {
   "cell_type": "code",
   "execution_count": 18,
   "metadata": {},
   "outputs": [
    {
     "data": {
      "text/plain": [
       "'../data/05_train_ver2.1/07\\\\model.pkl'"
      ]
     },
     "execution_count": 18,
     "metadata": {},
     "output_type": "execute_result"
    }
   ],
   "source": [
    "\n",
    "gbm = pickle.load(open(path_model_file, \"rb\"))\n",
    "path_model_file"
   ]
  },
  {
   "cell_type": "code",
   "execution_count": 19,
   "metadata": {},
   "outputs": [],
   "source": [
    "feature_name_list = gbm.feature_name()"
   ]
  },
  {
   "cell_type": "code",
   "execution_count": 20,
   "metadata": {},
   "outputs": [],
   "source": [
    "target_columns = ['RShoulder_x','RShoulder_y','RHip_x','RHip_y','RKnee_x','RKnee_y',\n",
    "                  'Neck_x','Neck_y','Nose_x','Nose_y','LShoulde_x','LShoulde_y',\n",
    "                  'LHip_x','LHip_y','LKnee_x','LKnee_y']"
   ]
  },
  {
   "cell_type": "code",
   "execution_count": 21,
   "metadata": {},
   "outputs": [
    {
     "data": {
      "text/plain": [
       "15"
      ]
     },
     "execution_count": 21,
     "metadata": {},
     "output_type": "execute_result"
    }
   ],
   "source": [
    "frame_length = 15\n",
    "assert frame_length == int(len(feature_name_list) / len(target_columns))\n",
    "frame_length"
   ]
  },
  {
   "cell_type": "code",
   "execution_count": 22,
   "metadata": {},
   "outputs": [
    {
     "name": "stdout",
     "output_type": "stream",
     "text": [
      "fall_ver2.1.csv\n",
      "sitdown_ver2.1.csv\n",
      "standup_ver2.1.csv\n"
     ]
    }
   ],
   "source": [
    "new_data_df = None\n",
    "for num, points_file_name in enumerate(points_file_names):\n",
    "    print(points_file_name)\n",
    "    path_file = os.path.join(path_test_file_dir, points_file_name)\n",
    "    data_df = pd.read_csv(path_file, index_col='frame_num')\n",
    "    units_df = None\n",
    "    for idx in data_df.index[frame_length:len(data_df)]:\n",
    "        unit_df = data_df.loc[idx - frame_length: idx-1]\n",
    "        y = unit_df[objective]\n",
    "        Y=y.loc[idx-1]\n",
    "        X = unit_df.drop(columns=[objective]).loc[:, target_columns]\n",
    "        flatten_data=X.to_numpy().reshape(1,-1)\n",
    "        A=['RShoulder_x','RShoulder_y', 'RHip_x', 'RHip_y','RKnee_x',\n",
    " 'RKnee_y', 'Neck_x', 'Neck_y', 'Nose_x', 'Nose_y', 'LShoulde_x', 'LShoulde_y',\n",
    " 'LHip_x', 'LHip_y', 'LKnee_x', 'LKnee_y']\n",
    "        B=[a+\"_\"+str(i-14) for i in range(15) for a in A]\n",
    "        X=pd.DataFrame(flatten_data,columns=B)\n",
    "        X[\"action_gt_num\"]=Y\n",
    "        unit_df = X\n",
    "        if units_df is None:\n",
    "            units_df = unit_df\n",
    "        else:\n",
    "            units_df = pd.concat([units_df, unit_df], axis=0, sort=False)\n",
    "    path_save_file = os.path.join(path_save_dir, points_file_name)\n",
    "    units_df.to_csv(path_save_file)\n",
    "    if new_data_df is None:\n",
    "        new_data_df = units_df\n",
    "    else:\n",
    "        new_data_df = pd.concat([new_data_df, units_df], axis=0, sort=False)\n",
    "test_data_df = new_data_df.copy()\n",
    "test_data_df.to_csv(path_test_file)"
   ]
  },
  {
   "cell_type": "code",
   "execution_count": 23,
   "metadata": {},
   "outputs": [
    {
     "data": {
      "text/html": [
       "<div>\n",
       "<style scoped>\n",
       "    .dataframe tbody tr th:only-of-type {\n",
       "        vertical-align: middle;\n",
       "    }\n",
       "\n",
       "    .dataframe tbody tr th {\n",
       "        vertical-align: top;\n",
       "    }\n",
       "\n",
       "    .dataframe thead th {\n",
       "        text-align: right;\n",
       "    }\n",
       "</style>\n",
       "<table border=\"1\" class=\"dataframe\">\n",
       "  <thead>\n",
       "    <tr style=\"text-align: right;\">\n",
       "      <th></th>\n",
       "      <th>RShoulder_x_-14</th>\n",
       "      <th>RShoulder_y_-14</th>\n",
       "      <th>RHip_x_-14</th>\n",
       "      <th>RHip_y_-14</th>\n",
       "      <th>RKnee_x_-14</th>\n",
       "      <th>RKnee_y_-14</th>\n",
       "      <th>Neck_x_-14</th>\n",
       "      <th>Neck_y_-14</th>\n",
       "      <th>Nose_x_-14</th>\n",
       "      <th>Nose_y_-14</th>\n",
       "      <th>...</th>\n",
       "      <th>Neck_x_0</th>\n",
       "      <th>Neck_y_0</th>\n",
       "      <th>Nose_x_0</th>\n",
       "      <th>Nose_y_0</th>\n",
       "      <th>LShoulde_x_0</th>\n",
       "      <th>LShoulde_y_0</th>\n",
       "      <th>LHip_x_0</th>\n",
       "      <th>LHip_y_0</th>\n",
       "      <th>LKnee_x_0</th>\n",
       "      <th>LKnee_y_0</th>\n",
       "    </tr>\n",
       "    <tr>\n",
       "      <th>action_gt_num</th>\n",
       "      <th></th>\n",
       "      <th></th>\n",
       "      <th></th>\n",
       "      <th></th>\n",
       "      <th></th>\n",
       "      <th></th>\n",
       "      <th></th>\n",
       "      <th></th>\n",
       "      <th></th>\n",
       "      <th></th>\n",
       "      <th></th>\n",
       "      <th></th>\n",
       "      <th></th>\n",
       "      <th></th>\n",
       "      <th></th>\n",
       "      <th></th>\n",
       "      <th></th>\n",
       "      <th></th>\n",
       "      <th></th>\n",
       "      <th></th>\n",
       "      <th></th>\n",
       "    </tr>\n",
       "  </thead>\n",
       "  <tbody>\n",
       "    <tr>\n",
       "      <th>0</th>\n",
       "      <td>281</td>\n",
       "      <td>281</td>\n",
       "      <td>281</td>\n",
       "      <td>281</td>\n",
       "      <td>281</td>\n",
       "      <td>281</td>\n",
       "      <td>281</td>\n",
       "      <td>281</td>\n",
       "      <td>281</td>\n",
       "      <td>281</td>\n",
       "      <td>...</td>\n",
       "      <td>281</td>\n",
       "      <td>281</td>\n",
       "      <td>281</td>\n",
       "      <td>281</td>\n",
       "      <td>281</td>\n",
       "      <td>281</td>\n",
       "      <td>281</td>\n",
       "      <td>281</td>\n",
       "      <td>281</td>\n",
       "      <td>281</td>\n",
       "    </tr>\n",
       "    <tr>\n",
       "      <th>1</th>\n",
       "      <td>262</td>\n",
       "      <td>262</td>\n",
       "      <td>262</td>\n",
       "      <td>262</td>\n",
       "      <td>262</td>\n",
       "      <td>262</td>\n",
       "      <td>262</td>\n",
       "      <td>262</td>\n",
       "      <td>262</td>\n",
       "      <td>262</td>\n",
       "      <td>...</td>\n",
       "      <td>262</td>\n",
       "      <td>262</td>\n",
       "      <td>262</td>\n",
       "      <td>262</td>\n",
       "      <td>262</td>\n",
       "      <td>262</td>\n",
       "      <td>262</td>\n",
       "      <td>262</td>\n",
       "      <td>262</td>\n",
       "      <td>262</td>\n",
       "    </tr>\n",
       "    <tr>\n",
       "      <th>2</th>\n",
       "      <td>247</td>\n",
       "      <td>247</td>\n",
       "      <td>247</td>\n",
       "      <td>247</td>\n",
       "      <td>247</td>\n",
       "      <td>247</td>\n",
       "      <td>247</td>\n",
       "      <td>247</td>\n",
       "      <td>247</td>\n",
       "      <td>247</td>\n",
       "      <td>...</td>\n",
       "      <td>247</td>\n",
       "      <td>247</td>\n",
       "      <td>247</td>\n",
       "      <td>247</td>\n",
       "      <td>247</td>\n",
       "      <td>247</td>\n",
       "      <td>247</td>\n",
       "      <td>247</td>\n",
       "      <td>247</td>\n",
       "      <td>247</td>\n",
       "    </tr>\n",
       "    <tr>\n",
       "      <th>3</th>\n",
       "      <td>296</td>\n",
       "      <td>296</td>\n",
       "      <td>296</td>\n",
       "      <td>296</td>\n",
       "      <td>296</td>\n",
       "      <td>296</td>\n",
       "      <td>296</td>\n",
       "      <td>296</td>\n",
       "      <td>296</td>\n",
       "      <td>296</td>\n",
       "      <td>...</td>\n",
       "      <td>296</td>\n",
       "      <td>296</td>\n",
       "      <td>296</td>\n",
       "      <td>296</td>\n",
       "      <td>296</td>\n",
       "      <td>296</td>\n",
       "      <td>296</td>\n",
       "      <td>296</td>\n",
       "      <td>296</td>\n",
       "      <td>296</td>\n",
       "    </tr>\n",
       "  </tbody>\n",
       "</table>\n",
       "<p>4 rows × 240 columns</p>\n",
       "</div>"
      ],
      "text/plain": [
       "               RShoulder_x_-14  RShoulder_y_-14  RHip_x_-14  RHip_y_-14  \\\n",
       "action_gt_num                                                             \n",
       "0                          281              281         281         281   \n",
       "1                          262              262         262         262   \n",
       "2                          247              247         247         247   \n",
       "3                          296              296         296         296   \n",
       "\n",
       "               RKnee_x_-14  RKnee_y_-14  Neck_x_-14  Neck_y_-14  Nose_x_-14  \\\n",
       "action_gt_num                                                                 \n",
       "0                      281          281         281         281         281   \n",
       "1                      262          262         262         262         262   \n",
       "2                      247          247         247         247         247   \n",
       "3                      296          296         296         296         296   \n",
       "\n",
       "               Nose_y_-14  ...  Neck_x_0  Neck_y_0  Nose_x_0  Nose_y_0  \\\n",
       "action_gt_num              ...                                           \n",
       "0                     281  ...       281       281       281       281   \n",
       "1                     262  ...       262       262       262       262   \n",
       "2                     247  ...       247       247       247       247   \n",
       "3                     296  ...       296       296       296       296   \n",
       "\n",
       "               LShoulde_x_0  LShoulde_y_0  LHip_x_0  LHip_y_0  LKnee_x_0  \\\n",
       "action_gt_num                                                              \n",
       "0                       281           281       281       281        281   \n",
       "1                       262           262       262       262        262   \n",
       "2                       247           247       247       247        247   \n",
       "3                       296           296       296       296        296   \n",
       "\n",
       "               LKnee_y_0  \n",
       "action_gt_num             \n",
       "0                    281  \n",
       "1                    262  \n",
       "2                    247  \n",
       "3                    296  \n",
       "\n",
       "[4 rows x 240 columns]"
      ]
     },
     "execution_count": 23,
     "metadata": {},
     "output_type": "execute_result"
    }
   ],
   "source": [
    "test_data_df.groupby(objective).count()"
   ]
  },
  {
   "cell_type": "code",
   "execution_count": 24,
   "metadata": {},
   "outputs": [
    {
     "data": {
      "text/plain": [
       "action_gt_num\n",
       "0    281\n",
       "1    262\n",
       "2    247\n",
       "3    296\n",
       "Name: dummy, dtype: int64"
      ]
     },
     "execution_count": 24,
     "metadata": {},
     "output_type": "execute_result"
    }
   ],
   "source": [
    "test_data_df['dummy'] = 1\n",
    "test_data_df.groupby(objective).count()['dummy']"
   ]
  },
  {
   "cell_type": "code",
   "execution_count": 25,
   "metadata": {},
   "outputs": [],
   "source": [
    "X_test_data_df = test_data_df.drop([objective], axis=1)\n",
    "y_test_data_df = test_data_df[objective]"
   ]
  },
  {
   "cell_type": "code",
   "execution_count": 26,
   "metadata": {},
   "outputs": [],
   "source": [
    "y_pred = gbm.predict(X_test_data_df, num_iteration=gbm.best_iteration)\n",
    "y_pred = np.argmax(y_pred, axis=1)"
   ]
  },
  {
   "cell_type": "code",
   "execution_count": 27,
   "metadata": {},
   "outputs": [],
   "source": [
    "objective_pred = 'action_pred_num'"
   ]
  },
  {
   "cell_type": "code",
   "execution_count": 28,
   "metadata": {},
   "outputs": [],
   "source": [
    "test_data_df[objective_pred] = y_pred\n",
    "test_data_df = test_data_df.reset_index(drop=True)"
   ]
  },
  {
   "cell_type": "code",
   "execution_count": 29,
   "metadata": {},
   "outputs": [],
   "source": [
    "accuracy_all = np.sum(test_data_df[objective] == test_data_df[objective_pred]) / len(test_data_df)\n"
   ]
  },
  {
   "cell_type": "code",
   "execution_count": 30,
   "metadata": {},
   "outputs": [
    {
     "name": "stdout",
     "output_type": "stream",
     "text": [
      "accuracy:  44.94  %\n"
     ]
    }
   ],
   "source": [
    "print('accuracy: ', round(accuracy_all*100, 2), ' %')\n"
   ]
  },
  {
   "cell_type": "code",
   "execution_count": 31,
   "metadata": {},
   "outputs": [],
   "source": [
    "objective_rev_dict = label_names.to_dict()['action_gt_name']\n"
   ]
  },
  {
   "cell_type": "code",
   "execution_count": 32,
   "metadata": {},
   "outputs": [],
   "source": [
    "test_data_df['action_gt_name'] = test_data_df[objective].apply(lambda x: objective_rev_dict[x])\n",
    "test_data_df['action_pred_name'] = test_data_df[objective_pred].apply(lambda x: objective_rev_dict[x])\n"
   ]
  },
  {
   "cell_type": "code",
   "execution_count": 33,
   "metadata": {},
   "outputs": [
    {
     "data": {
      "text/plain": [
       "Index(['RShoulder_x_-14', 'RShoulder_y_-14', 'RHip_x_-14', 'RHip_y_-14',\n",
       "       'RKnee_x_-14', 'RKnee_y_-14', 'Neck_x_-14', 'Neck_y_-14', 'Nose_x_-14',\n",
       "       'Nose_y_-14',\n",
       "       ...\n",
       "       'LShoulde_y_0', 'LHip_x_0', 'LHip_y_0', 'LKnee_x_0', 'LKnee_y_0',\n",
       "       'action_gt_num', 'dummy', 'action_pred_num', 'action_gt_name',\n",
       "       'action_pred_name'],\n",
       "      dtype='object', length=245)"
      ]
     },
     "execution_count": 33,
     "metadata": {},
     "output_type": "execute_result"
    }
   ],
   "source": [
    "test_data_df.columns\n"
   ]
  },
  {
   "cell_type": "code",
   "execution_count": 34,
   "metadata": {},
   "outputs": [],
   "source": [
    "from sklearn.metrics import confusion_matrix"
   ]
  },
  {
   "cell_type": "code",
   "execution_count": 35,
   "metadata": {},
   "outputs": [
    {
     "data": {
      "text/plain": [
       "['idle', 'stand', 'fall', 'sitdown']"
      ]
     },
     "execution_count": 35,
     "metadata": {},
     "output_type": "execute_result"
    }
   ],
   "source": [
    "objective_names = list(objective_rev_dict.values())\n",
    "objective_names"
   ]
  },
  {
   "cell_type": "code",
   "execution_count": 36,
   "metadata": {},
   "outputs": [],
   "source": [
    "confusion_matrix_df = confusion_matrix(test_data_df[objective], test_data_df[objective_pred])\n"
   ]
  },
  {
   "cell_type": "code",
   "execution_count": 37,
   "metadata": {},
   "outputs": [],
   "source": [
    "objective_names_pred = [objective_name + '_pred' for objective_name in objective_names]\n",
    "objective_names_gt = [objective_name + '_gt' for objective_name in objective_names]"
   ]
  },
  {
   "cell_type": "code",
   "execution_count": 38,
   "metadata": {},
   "outputs": [
    {
     "data": {
      "text/plain": [
       "array([[226,  30,   7,  18],\n",
       "       [132, 122,   8,   0],\n",
       "       [117,  16,  97,  17],\n",
       "       [ 68,  18, 167,  43]], dtype=int64)"
      ]
     },
     "execution_count": 38,
     "metadata": {},
     "output_type": "execute_result"
    }
   ],
   "source": [
    "confusion_matrix_df"
   ]
  },
  {
   "cell_type": "code",
   "execution_count": 39,
   "metadata": {},
   "outputs": [
    {
     "data": {
      "text/html": [
       "<div>\n",
       "<style scoped>\n",
       "    .dataframe tbody tr th:only-of-type {\n",
       "        vertical-align: middle;\n",
       "    }\n",
       "\n",
       "    .dataframe tbody tr th {\n",
       "        vertical-align: top;\n",
       "    }\n",
       "\n",
       "    .dataframe thead th {\n",
       "        text-align: right;\n",
       "    }\n",
       "</style>\n",
       "<table border=\"1\" class=\"dataframe\">\n",
       "  <thead>\n",
       "    <tr style=\"text-align: right;\">\n",
       "      <th></th>\n",
       "      <th>idle_pred</th>\n",
       "      <th>stand_pred</th>\n",
       "      <th>fall_pred</th>\n",
       "      <th>sitdown_pred</th>\n",
       "    </tr>\n",
       "  </thead>\n",
       "  <tbody>\n",
       "    <tr>\n",
       "      <th>idle_gt</th>\n",
       "      <td>226</td>\n",
       "      <td>30</td>\n",
       "      <td>7</td>\n",
       "      <td>18</td>\n",
       "    </tr>\n",
       "    <tr>\n",
       "      <th>stand_gt</th>\n",
       "      <td>132</td>\n",
       "      <td>122</td>\n",
       "      <td>8</td>\n",
       "      <td>0</td>\n",
       "    </tr>\n",
       "    <tr>\n",
       "      <th>fall_gt</th>\n",
       "      <td>117</td>\n",
       "      <td>16</td>\n",
       "      <td>97</td>\n",
       "      <td>17</td>\n",
       "    </tr>\n",
       "    <tr>\n",
       "      <th>sitdown_gt</th>\n",
       "      <td>68</td>\n",
       "      <td>18</td>\n",
       "      <td>167</td>\n",
       "      <td>43</td>\n",
       "    </tr>\n",
       "  </tbody>\n",
       "</table>\n",
       "</div>"
      ],
      "text/plain": [
       "            idle_pred  stand_pred  fall_pred  sitdown_pred\n",
       "idle_gt           226          30          7            18\n",
       "stand_gt          132         122          8             0\n",
       "fall_gt           117          16         97            17\n",
       "sitdown_gt         68          18        167            43"
      ]
     },
     "execution_count": 39,
     "metadata": {},
     "output_type": "execute_result"
    }
   ],
   "source": [
    "confusion_matrix_df = pd.DataFrame(confusion_matrix_df, columns=objective_names_pred, index=objective_names_gt)\n",
    "confusion_matrix_df"
   ]
  },
  {
   "cell_type": "code",
   "execution_count": 40,
   "metadata": {},
   "outputs": [
    {
     "data": {
      "text/html": [
       "<div>\n",
       "<style scoped>\n",
       "    .dataframe tbody tr th:only-of-type {\n",
       "        vertical-align: middle;\n",
       "    }\n",
       "\n",
       "    .dataframe tbody tr th {\n",
       "        vertical-align: top;\n",
       "    }\n",
       "\n",
       "    .dataframe thead th {\n",
       "        text-align: right;\n",
       "    }\n",
       "</style>\n",
       "<table border=\"1\" class=\"dataframe\">\n",
       "  <thead>\n",
       "    <tr style=\"text-align: right;\">\n",
       "      <th></th>\n",
       "      <th>idle_pred</th>\n",
       "      <th>stand_pred</th>\n",
       "      <th>fall_pred</th>\n",
       "      <th>sitdown_pred</th>\n",
       "    </tr>\n",
       "  </thead>\n",
       "  <tbody>\n",
       "    <tr>\n",
       "      <th>idle_gt</th>\n",
       "      <td>41.620626</td>\n",
       "      <td>16.129032</td>\n",
       "      <td>2.508961</td>\n",
       "      <td>23.076923</td>\n",
       "    </tr>\n",
       "    <tr>\n",
       "      <th>stand_gt</th>\n",
       "      <td>24.309392</td>\n",
       "      <td>65.591398</td>\n",
       "      <td>2.867384</td>\n",
       "      <td>0.000000</td>\n",
       "    </tr>\n",
       "    <tr>\n",
       "      <th>fall_gt</th>\n",
       "      <td>21.546961</td>\n",
       "      <td>8.602151</td>\n",
       "      <td>34.767025</td>\n",
       "      <td>21.794872</td>\n",
       "    </tr>\n",
       "    <tr>\n",
       "      <th>sitdown_gt</th>\n",
       "      <td>12.523020</td>\n",
       "      <td>9.677419</td>\n",
       "      <td>59.856631</td>\n",
       "      <td>55.128205</td>\n",
       "    </tr>\n",
       "  </tbody>\n",
       "</table>\n",
       "</div>"
      ],
      "text/plain": [
       "            idle_pred  stand_pred  fall_pred  sitdown_pred\n",
       "idle_gt     41.620626   16.129032   2.508961     23.076923\n",
       "stand_gt    24.309392   65.591398   2.867384      0.000000\n",
       "fall_gt     21.546961    8.602151  34.767025     21.794872\n",
       "sitdown_gt  12.523020    9.677419  59.856631     55.128205"
      ]
     },
     "execution_count": 40,
     "metadata": {},
     "output_type": "execute_result"
    }
   ],
   "source": [
    "# Precision\n",
    "confusion_matrix_df / confusion_matrix_df.sum(axis=0) * 100"
   ]
  },
  {
   "cell_type": "code",
   "execution_count": 41,
   "metadata": {},
   "outputs": [
    {
     "data": {
      "text/html": [
       "<div>\n",
       "<style scoped>\n",
       "    .dataframe tbody tr th:only-of-type {\n",
       "        vertical-align: middle;\n",
       "    }\n",
       "\n",
       "    .dataframe tbody tr th {\n",
       "        vertical-align: top;\n",
       "    }\n",
       "\n",
       "    .dataframe thead th {\n",
       "        text-align: right;\n",
       "    }\n",
       "</style>\n",
       "<table border=\"1\" class=\"dataframe\">\n",
       "  <thead>\n",
       "    <tr style=\"text-align: right;\">\n",
       "      <th></th>\n",
       "      <th>idle_pred</th>\n",
       "      <th>stand_pred</th>\n",
       "      <th>fall_pred</th>\n",
       "      <th>sitdown_pred</th>\n",
       "    </tr>\n",
       "  </thead>\n",
       "  <tbody>\n",
       "    <tr>\n",
       "      <th>idle_gt</th>\n",
       "      <td>80.427046</td>\n",
       "      <td>10.676157</td>\n",
       "      <td>2.491103</td>\n",
       "      <td>6.405694</td>\n",
       "    </tr>\n",
       "    <tr>\n",
       "      <th>stand_gt</th>\n",
       "      <td>50.381679</td>\n",
       "      <td>46.564885</td>\n",
       "      <td>3.053435</td>\n",
       "      <td>0.000000</td>\n",
       "    </tr>\n",
       "    <tr>\n",
       "      <th>fall_gt</th>\n",
       "      <td>47.368421</td>\n",
       "      <td>6.477733</td>\n",
       "      <td>39.271255</td>\n",
       "      <td>6.882591</td>\n",
       "    </tr>\n",
       "    <tr>\n",
       "      <th>sitdown_gt</th>\n",
       "      <td>22.972973</td>\n",
       "      <td>6.081081</td>\n",
       "      <td>56.418919</td>\n",
       "      <td>14.527027</td>\n",
       "    </tr>\n",
       "  </tbody>\n",
       "</table>\n",
       "</div>"
      ],
      "text/plain": [
       "            idle_pred  stand_pred  fall_pred  sitdown_pred\n",
       "idle_gt     80.427046   10.676157   2.491103      6.405694\n",
       "stand_gt    50.381679   46.564885   3.053435      0.000000\n",
       "fall_gt     47.368421    6.477733  39.271255      6.882591\n",
       "sitdown_gt  22.972973    6.081081  56.418919     14.527027"
      ]
     },
     "execution_count": 41,
     "metadata": {},
     "output_type": "execute_result"
    }
   ],
   "source": [
    "# Recall\n",
    "(confusion_matrix_df.T / confusion_matrix_df.sum(axis=1)).T * 100"
   ]
  },
  {
   "cell_type": "code",
   "execution_count": 42,
   "metadata": {},
   "outputs": [
    {
     "data": {
      "text/plain": [
       "<matplotlib.axes._subplots.AxesSubplot at 0x23b70fef898>"
      ]
     },
     "execution_count": 42,
     "metadata": {},
     "output_type": "execute_result"
    },
    {
     "data": {
      "image/png": "[encoded data removed]",
      "text/plain": [
       "<Figure size 432x288 with 1 Axes>"
      ]
     },
     "metadata": {
      "needs_background": "light"
     },
     "output_type": "display_data"
    }
   ],
   "source": [
    "lgb.plot_importance(gbm, max_num_features=20)\n"
   ]
  },
  {
   "cell_type": "code",
   "execution_count": null,
   "metadata": {},
   "outputs": [],
   "source": []
  }
 ],
 "metadata": {
  "kernelspec": {
   "display_name": "Python 3",
   "language": "python",
   "name": "python3"
  },
  "language_info": {
   "codemirror_mode": {
    "name": "ipython",
    "version": 3
   },
   "file_extension": ".py",
   "mimetype": "text/x-python",
   "name": "python",
   "nbconvert_exporter": "python",
   "pygments_lexer": "ipython3",
   "version": "3.6.5"
  }
 },
 "nbformat": 4,
 "nbformat_minor": 4
}
