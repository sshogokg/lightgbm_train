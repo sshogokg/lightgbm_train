{
 "cells": [
  {
   "cell_type": "code",
   "execution_count": 13,
   "metadata": {},
   "outputs": [],
   "source": [
    "import os\n",
    "\n",
    "import pandas as pd\n",
    "import numpy as np\n",
    "import matplotlib.pyplot as plt\n",
    "from sklearn.model_selection import train_test_split\n",
    "import lightgbm as lgb\n",
    "#import xgboost as xgb\n",
    "import pickle"
   ]
  },
  {
   "cell_type": "code",
   "execution_count": 14,
   "metadata": {},
   "outputs": [],
   "source": [
    "notebook_name = os.path.basename(os.getcwd())\n",
    "timestamp=\"07\""
   ]
  },
  {
   "cell_type": "code",
   "execution_count": 15,
   "metadata": {},
   "outputs": [],
   "source": [
    "path_data_dir = os.path.join('../data/00_Data/',timestamp)\n",
    "path_save_dir = os.path.join('../data/02_GetPoints_ver2.0/', timestamp)\n",
    "if not os.path.exists(path_save_dir):\n",
    "    os.makedirs(path_save_dir)"
   ]
  },
  {
   "cell_type": "code",
   "execution_count": 16,
   "metadata": {},
   "outputs": [],
   "source": [
    "path_action_dir = os.path.join('../data/01_DataProcessing/', timestamp)"
   ]
  },
  {
   "cell_type": "code",
   "execution_count": 17,
   "metadata": {},
   "outputs": [],
   "source": [
    "file_names = ['fall','sitdown', 'standup','test']\n",
    "# file_names = ['forehand']\n",
    "movie_names = [file_name + '.MOV' for file_name in file_names]\n",
    "data_file_names = [file_name + '.csv' for file_name in file_names]"
   ]
  },
  {
   "cell_type": "code",
   "execution_count": 18,
   "metadata": {},
   "outputs": [
    {
     "name": "stdout",
     "output_type": "stream",
     "text": [
      "fall.csv\n",
      "sitdown.csv\n",
      "standup.csv\n",
      "test.csv\n"
     ]
    }
   ],
   "source": [
    "for data_file_name in data_file_names:\n",
    "    print(data_file_name)\n",
    "    path_data = os.path.join(path_data_dir, data_file_name)\n",
    "    data_df=pd.read_csv(path_data)\n",
    "    data_df.columns=[\"frame_num\",\"Nose_x\",\"Nose_y\",\"Neck_x\",\"Neck_y\",\"RShoulder_x\",\"RShoulder_y\",\"RElbow_x\",\"RElbow_y\",\"RWrist_x\",\"RWrist_y\",\n",
    "                 \"LShoulde_x\",\"LShoulde_y\",\"LElbow_x\",\"LElbow_y\",\"LWrist_x\",\"LWrist_y\",\"RHip_x\",\"RHip_y\",\"RKnee_x\",\"RKnee_y\",\n",
    "                 \"RAnkle_x\",\"RAnkle_y\",\"LHip_x\",\"LHip_y\",\"LKnee_x\",\"LKnee_y\",\"LAnkle_x\",\"LAnkle_y\",\"REye_x\",\"REye_y\",\"LEye_x\",\n",
    "                 \"LEye_y\",\"REar_x\",\"REar_y\",\"LEar_x\",\"LEar_y\"]\n",
    "    frame_num=data_df.count()[0]\n",
    "    data_df=data_df.drop(\"frame_num\",axis=1)\n",
    "    data_df = data_df.fillna(method=\"ffill\")\n",
    "    x_data=[\"Nose_x\",\"Neck_x\",\"RShoulder_x\",\"RElbow_x\",\"RWrist_x\",\"LShoulde_x\",\"LElbow_x\",\"LWrist_x\",\"RHip_x\",\"RKnee_x\",\n",
    "        \"RAnkle_x\",\"LHip_x\",\"LKnee_x\",\"LAnkle_x\",\"REye_x\",\"LEye_x\",\"REar_x\",\"LEar_x\"]\n",
    "    y_data=[\"Nose_y\",\"Neck_y\",\"RShoulder_y\",\"RElbow_y\",\"RWrist_y\",\"LShoulde_y\",\"LElbow_y\",\"LWrist_y\",\"RHip_y\",\n",
    "            \"RKnee_y\",\"RAnkle_y\",\"LHip_y\",\"LKnee_y\",\"LAnkle_y\",\"REye_y\",\"LEye_y\",\"REar_y\",\"LEar_y\"]\n",
    "    df_new=data_df.copy()\n",
    "    for i in range(frame_num):\n",
    "        df_new_data=df_new.iloc[i]\n",
    "        x_max=df_new_data[x_data].max()\n",
    "        x_min=df_new_data[x_data].min()\n",
    "        y_max=df_new_data[y_data].max()\n",
    "        y_min=df_new_data[y_data].min()\n",
    "        df_new_data[x_data]=df_new_data[x_data].apply(lambda x:(x-x_min)/(x_max-x_min))\n",
    "        df_new_data[y_data]=df_new_data[y_data].apply(lambda y:(y-y_min)/(y_max-y_min))\n",
    "    path_file=os.path.join(path_save_dir,data_file_name)\n",
    "    df_new.describe()\n",
    "    df_new.to_csv(path_file)\n",
    "    "
   ]
  },
  {
   "cell_type": "code",
   "execution_count": null,
   "metadata": {},
   "outputs": [],
   "source": []
  },
  {
   "cell_type": "code",
   "execution_count": null,
   "metadata": {},
   "outputs": [],
   "source": []
  }
 ],
 "metadata": {
  "kernelspec": {
   "display_name": "Python 3",
   "language": "python",
   "name": "python3"
  },
  "language_info": {
   "codemirror_mode": {
    "name": "ipython",
    "version": 3
   },
   "file_extension": ".py",
   "mimetype": "text/x-python",
   "name": "python",
   "nbconvert_exporter": "python",
   "pygments_lexer": "ipython3",
   "version": "3.6.5"
  }
 },
 "nbformat": 4,
 "nbformat_minor": 4
}
